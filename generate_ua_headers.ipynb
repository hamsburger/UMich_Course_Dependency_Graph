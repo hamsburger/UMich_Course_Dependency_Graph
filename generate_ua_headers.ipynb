{
 "cells": [
  {
   "cell_type": "markdown",
   "metadata": {},
   "source": [
    "# Generate Ua Headers\n",
    "\n",
    "**Date:** January 15, 2024\n",
    "\n",
    "Takes curl command from F12 Chrome Browser Inspect and converts \n",
    "browser request headers into JSON format, <br>\n",
    "which can be used by python clients to\n",
    "imitate a real web browser"
   ]
  },
  {
   "cell_type": "code",
   "execution_count": 5,
   "metadata": {},
   "outputs": [],
   "source": [
    "import pprint\n",
    "import re"
   ]
  },
  {
   "cell_type": "markdown",
   "metadata": {},
   "source": [
    "### 1. Go copy and paste curl command from F12 'Inspect Browser'"
   ]
  },
  {
   "cell_type": "code",
   "execution_count": 6,
   "metadata": {},
   "outputs": [],
   "source": [
    "curl_command = r\"\"\"\n",
    "    curl \"https://www.si.umich.edu/programs/master-applied-data-science/curriculum/mads-courses\" ^\n",
    "    -H \"authority: www.si.umich.edu\" ^\n",
    "    -H \"accept: text/html,application/xhtml+xml,application/xml;q=0.9,image/avif,image/webp,image/apng,*/*;q=0.8,application/signed-exchange;v=b3;q=0.7\" ^\n",
    "    -H \"accept-language: en-US,en;q=0.9\" ^\n",
    "    -H \"cache-control: max-age=0\" ^\n",
    "    -H \"cookie: __cf_bm=sgTZL11fx5.W.P9rFRqXSAfR.Tmar5RcNqLK3cuU3Fg-1705348409-1-ATQlJZ9l0c8nFaIajMAg1OOSOxIYPUBQwvHScF2m9mCSvpmbwA9TDkgWqNWFgbxOQ18uffcwRnHlQaQKA/DwdpI=; cf_clearance=zH4WAaibcpnmK8_jacATDYiJvvSMK1tdgZwdXtmaiUc-1705348409-1-ARycj2yx6fzVs8i5dJ5RRlSvndY6CBI4PftbMn4zVr7dXWfylGwXQE+Jp3DEky7jx4wHV2pnCnQzhWnQenPIbDw=; _ga_DWT3RZWQN2=GS1.1.1705348410.1.0.1705348410.60.0.0; _ga=GA1.1.178127765.1705348410\" ^\n",
    "    -H \"sec-ch-ua: ^\\^\"Not_A Brand^\\^\";v=^\\^\"8^\\^\", ^\\^\"Chromium^\\^\";v=^\\^\"120^\\^\", ^\\^\"Google Chrome^\\^\";v=^\\^\"120^\\^\"\" ^\n",
    "    -H \"sec-ch-ua-mobile: ?1\" ^\n",
    "    -H \"sec-ch-ua-platform: ^\\^\"Android^\\^\"\" ^\n",
    "    -H \"sec-fetch-dest: document\" ^\n",
    "    -H \"sec-fetch-mode: navigate\" ^\n",
    "    -H \"sec-fetch-site: none\" ^\n",
    "    -H \"sec-fetch-user: ?1\" ^\n",
    "    -H \"upgrade-insecure-requests: 1\" ^\n",
    "    -H \"user-agent: Mozilla/5.0 (Linux; Android 6.0; Nexus 5 Build/MRA58N) AppleWebKit/537.36 (KHTML, like Gecko) Chrome/120.0.0.0 Mobile Safari/537.36\" ^\n",
    "    --compressed\n",
    "\"\"\"\n",
    "\n",
    "## Remove ^ characters\n",
    "curl_command = re.sub(r\"[\\^]+\", \"\", curl_command).strip()"
   ]
  },
  {
   "cell_type": "code",
   "execution_count": 7,
   "metadata": {},
   "outputs": [
    {
     "name": "stdout",
     "output_type": "stream",
     "text": [
      "{'Accept': 'text/html,application/xhtml+xml,application/xml;q=0.9,image/avif,image/webp,image/apng,*/*;q=0.8,application/signed-exchange;v=b3;q=0.7',\n",
      " 'Accept-Language': 'en-US,en;q=0.9',\n",
      " 'Authority': 'www.si.umich.edu',\n",
      " 'Cache-Control': 'max-age=0',\n",
      " 'Cookie': '__cf_bm=sgTZL11fx5.W.P9rFRqXSAfR.Tmar5RcNqLK3cuU3Fg-1705348409-1-ATQlJZ9l0c8nFaIajMAg1OOSOxIYPUBQwvHScF2m9mCSvpmbwA9TDkgWqNWFgbxOQ18uffcwRnHlQaQKA/DwdpI=; '\n",
      "           'cf_clearance=zH4WAaibcpnmK8_jacATDYiJvvSMK1tdgZwdXtmaiUc-1705348409-1-ARycj2yx6fzVs8i5dJ5RRlSvndY6CBI4PftbMn4zVr7dXWfylGwXQE+Jp3DEky7jx4wHV2pnCnQzhWnQenPIbDw=; '\n",
      "           '_ga_DWT3RZWQN2=GS1.1.1705348410.1.0.1705348410.60.0.0; '\n",
      "           '_ga=GA1.1.178127765.1705348410',\n",
      " 'Sec-Ch-Ua': '\\\\\"Not_A Brand\\\\\";v=\\\\\"8\\\\\", \\\\\"Chromium\\\\\";v=\\\\\"120\\\\\", '\n",
      "              '\\\\\"Google Chrome\\\\\";v=\\\\\"120\\\\\"',\n",
      " 'Sec-Ch-Ua-Mobile': '?1',\n",
      " 'Sec-Ch-Ua-Platform': '\\\\\"Android\\\\\"',\n",
      " 'Sec-Fetch-Dest': 'document',\n",
      " 'Sec-Fetch-Mode': 'navigate',\n",
      " 'Sec-Fetch-Site': 'none',\n",
      " 'Sec-Fetch-User': '?1',\n",
      " 'Upgrade-Insecure-Requests': '1',\n",
      " 'User-Agent': 'Mozilla/5.0 (Linux; Android 6.0; Nexus 5 Build/MRA58N) '\n",
      "               'AppleWebKit/537.36 (KHTML, like Gecko) Chrome/120.0.0.0 Mobile '\n",
      "               'Safari/537.36 \\n'\n",
      "               '    --compressed'}\n"
     ]
    }
   ],
   "source": [
    "request_dictionary = {}\n",
    "for request_item in curl_command.split(\"-H\")[1:]:\n",
    "    # ''.join(string.rsplit(character, 1)) performs a replace on first occurence of character from right_to_left\n",
    "    left_side, right_side = [''.join(request_field.strip().rsplit(\"\\\"\", 1)) for request_field in request_item.split(\":\")]\n",
    "    request_dictionary[left_side.title()] = right_side\n",
    "\n",
    "pprint.pprint(request_dictionary)"
   ]
  },
  {
   "cell_type": "code",
   "execution_count": 8,
   "metadata": {},
   "outputs": [],
   "source": [
    "import json\n",
    "with open('user_agent_headers/chrome_incognito_header.json', mode=\"w\") as f:\n",
    "    json.dump(request_dictionary, f, indent=4)"
   ]
  },
  {
   "cell_type": "code",
   "execution_count": null,
   "metadata": {},
   "outputs": [],
   "source": []
  }
 ],
 "metadata": {
  "kernelspec": {
   "display_name": "scrapy_scrapers",
   "language": "python",
   "name": "python3"
  },
  "language_info": {
   "codemirror_mode": {
    "name": "ipython",
    "version": 3
   },
   "file_extension": ".py",
   "mimetype": "text/x-python",
   "name": "python",
   "nbconvert_exporter": "python",
   "pygments_lexer": "ipython3",
   "version": "3.10.12"
  }
 },
 "nbformat": 4,
 "nbformat_minor": 2
}
