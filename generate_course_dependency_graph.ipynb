{
 "cells": [
  {
   "cell_type": "markdown",
   "metadata": {},
   "source": [
    "# Generate Umich Course Dependency Graph\n",
    "\n",
    "Scrape UMich Course Website and Visualize Course Dependencies\n",
    "\n",
    "**Author:** Harris Zheng\n",
    "\n",
    "**Date:** January 16th, 2024"
   ]
  },
  {
   "cell_type": "markdown",
   "metadata": {},
   "source": [
    "### 0. Load Packages"
   ]
  },
  {
   "cell_type": "code",
   "execution_count": 1,
   "metadata": {},
   "outputs": [],
   "source": [
    "import requests\n",
    "import pprint\n",
    "import json\n",
    "import bs4\n",
    "import re\n",
    "from bs4 import BeautifulSoup\n",
    "from typing import Generator, Iterator, Any, TypeAlias, TypedDict, Union, Literal\n",
    "import pandas as pd\n",
    "import networkx as nx\n",
    "\n",
    "import numpy as np\n",
    "from pyvis.network import Network\n",
    "import matplotlib.pyplot as plt"
   ]
  },
  {
   "cell_type": "code",
   "execution_count": 2,
   "metadata": {},
   "outputs": [],
   "source": [
    "Column : TypeAlias = str\n",
    "Record : TypeAlias = dict[Column, Any]\n",
    "\n",
    "class CourseRecord(TypedDict):\n",
    "    course_name: str\n",
    "    description: str\n",
    "    precede_prerequisites: list[int]\n",
    "    precede_or_accompanied_prerequisites: list[int]"
   ]
  },
  {
   "cell_type": "code",
   "execution_count": 3,
   "metadata": {},
   "outputs": [],
   "source": [
    "# chrome_headers = None\n",
    "# with open(\"user_agent_headers/chrome_incognito_header.json\", mode=\"r\") as f:\n",
    "#     chrome_headers = json.load(f)\n",
    "#     # del chrome_headers[\"Authority\"]\n",
    "#     # del chrome_headers[\"Cookie\"]"
   ]
  },
  {
   "cell_type": "markdown",
   "metadata": {},
   "source": [
    "### 1. Read HTML"
   ]
  },
  {
   "cell_type": "code",
   "execution_count": 4,
   "metadata": {},
   "outputs": [],
   "source": [
    "html : str = None\n",
    "with open(\"umich.html\", mode=\"r\") as f:\n",
    "    html = f.read()\n",
    "\n",
    "soup : bs4.BeautifulSoup = BeautifulSoup(html, 'html.parser')"
   ]
  },
  {
   "cell_type": "markdown",
   "metadata": {},
   "source": [
    "### 2. Parse HTML and Store Contents in a List of Records"
   ]
  },
  {
   "cell_type": "code",
   "execution_count": 5,
   "metadata": {},
   "outputs": [],
   "source": [
    "course_text_generator : Iterator[bs4.element.Tag] = soup.find(id=\"main-content\").find(class_=\"body wysiwyg-content\").children\n",
    "first_h2_position = 0\n",
    "for i, course_tag in enumerate(course_text_generator):\n",
    "    if course_tag.name == \"h2\":\n",
    "        first_h2_position = i\n",
    "        break\n",
    "\n",
    "course_text_generator : Iterator[bs4.element.Tag] = soup.find(id=\"main-content\").find(class_=\"body wysiwyg-content\").children"
   ]
  },
  {
   "cell_type": "code",
   "execution_count": 6,
   "metadata": {},
   "outputs": [],
   "source": [
    "list_of_records : list[CourseRecord] = []\n",
    "new_record = {key: None for key in CourseRecord.__required_keys__}\n",
    "num_steps_since_new_record = 0\n",
    "\n",
    "for i, course_tag in enumerate(course_text_generator):\n",
    "    if course_tag.text == \"\\n\":\n",
    "        continue\n",
    "\n",
    "    if course_tag.name == \"h2\":\n",
    "        if i != first_h2_position:\n",
    "            list_of_records.append(new_record)\n",
    "        new_record = {key: None for key in CourseRecord.__required_keys__}## Create new record (new course) on every encounter of h2\n",
    "        num_steps_since_new_record = 0\n",
    "        new_record[\"course_name\"] = course_tag.text\n",
    "        new_record[\"course_number\"] = int(re.search(\"[0-9]+\", course_tag.text).group())\n",
    "        \n",
    "    else:\n",
    "        num_steps_since_new_record += 1\n",
    "\n",
    "        # First tag after h2 is always the description tag\n",
    "        if num_steps_since_new_record == 1:\n",
    "            new_record[\"description\"] = course_tag.text\n",
    "        else:\n",
    "            tag_text = course_tag.text\n",
    "            if \"Prerequisite\" not in tag_text:\n",
    "                continue\n",
    "        \n",
    "            # precede_start_position = re.search(\"(preceded (?!or accompanied))*.*\", flags=re.IGNORECASE).start() # negative lookahead expression\n",
    "            precede_or_accompanied_match : re.Match = re.search(\"(preceded or accompanied)+\", tag_text, flags=re.IGNORECASE)\n",
    "            \n",
    "            if precede_or_accompanied_match:\n",
    "                precede_or_accompanied_position = precede_or_accompanied_match.start()    \n",
    "                precede_or_accompanied_text = tag_text[precede_or_accompanied_position:]\n",
    "                precede_or_accompanied_prerequisites = [int(number) for number in re.findall(\"[0-9]+\", precede_or_accompanied_text)]\n",
    "                new_record[\"precede_or_accompanied_prerequisites\"] = (\n",
    "                    precede_or_accompanied_prerequisites \n",
    "                    if len(precede_or_accompanied_prerequisites) != 0\n",
    "                    else None\n",
    "                ) \n",
    "                \n",
    "                precede_text = tag_text[:precede_or_accompanied_position]\n",
    "                precede_prerequisites = [int(number) for number in re.findall(\"[0-9]+\", precede_text)]\n",
    "                new_record[\"precede_prerequisites\"] = (\n",
    "                    precede_prerequisites\n",
    "                    if len(precede_prerequisites) != 0\n",
    "                    else None\n",
    "                )   \n",
    "            else:\n",
    "                precede_prerequisites = [int(number) for number in re.findall(\"[0-9]+\", tag_text)]\n",
    "                new_record[\"precede_prerequisites\"] = (\n",
    "                    precede_prerequisites\n",
    "                    if len(precede_prerequisites) != 0\n",
    "                    else None\n",
    "                )   \n",
    "\n",
    "list_of_records.append(new_record)\n",
    "                   "
   ]
  },
  {
   "cell_type": "code",
   "execution_count": 7,
   "metadata": {},
   "outputs": [],
   "source": [
    "df_umich_courses : pd.DataFrame = pd.DataFrame.from_records(list_of_records)"
   ]
  },
  {
   "cell_type": "code",
   "execution_count": 8,
   "metadata": {},
   "outputs": [
    {
     "data": {
      "text/plain": [
       "Index(['course_name', 'precede_or_accompanied_prerequisites', 'description',\n",
       "       'precede_prerequisites', 'course_number'],\n",
       "      dtype='object')"
      ]
     },
     "execution_count": 8,
     "metadata": {},
     "output_type": "execute_result"
    }
   ],
   "source": [
    "df_umich_courses.columns"
   ]
  },
  {
   "cell_type": "code",
   "execution_count": 9,
   "metadata": {},
   "outputs": [],
   "source": [
    "# Reorder columns\n",
    "df_umich_courses : pd.DataFrame = (\n",
    "    df_umich_courses.iloc[\n",
    "        :, \n",
    "        df_umich_courses\n",
    "            .columns\n",
    "            .reindex(\n",
    "                [\n",
    "                    'course_number', \n",
    "                    'course_name', \n",
    "                    'description', \n",
    "                    'precede_prerequisites', \n",
    "                    'precede_or_accompanied_prerequisites'\n",
    "                ])\n",
    "            [1]\n",
    "    ]\n",
    ")"
   ]
  },
  {
   "cell_type": "code",
   "execution_count": 10,
   "metadata": {},
   "outputs": [],
   "source": [
    "df_umich_courses.sort_values(by=\"course_number\", inplace=True)"
   ]
  },
  {
   "cell_type": "code",
   "execution_count": 11,
   "metadata": {},
   "outputs": [
    {
     "data": {
      "text/html": [
       "<div>\n",
       "<style scoped>\n",
       "    .dataframe tbody tr th:only-of-type {\n",
       "        vertical-align: middle;\n",
       "    }\n",
       "\n",
       "    .dataframe tbody tr th {\n",
       "        vertical-align: top;\n",
       "    }\n",
       "\n",
       "    .dataframe thead th {\n",
       "        text-align: right;\n",
       "    }\n",
       "</style>\n",
       "<table border=\"1\" class=\"dataframe\">\n",
       "  <thead>\n",
       "    <tr style=\"text-align: right;\">\n",
       "      <th></th>\n",
       "      <th>course_number</th>\n",
       "      <th>course_name</th>\n",
       "      <th>description</th>\n",
       "      <th>precede_prerequisites</th>\n",
       "      <th>precede_or_accompanied_prerequisites</th>\n",
       "    </tr>\n",
       "  </thead>\n",
       "  <tbody>\n",
       "    <tr>\n",
       "      <th>0</th>\n",
       "      <td>501</td>\n",
       "      <td>SIADS 501 - Being a Data Scientist</td>\n",
       "      <td>This course explores what expertise, perspecti...</td>\n",
       "      <td>None</td>\n",
       "      <td>None</td>\n",
       "    </tr>\n",
       "    <tr>\n",
       "      <th>1</th>\n",
       "      <td>502</td>\n",
       "      <td>SIADS 502 - Math Methods I</td>\n",
       "      <td>This course covers foundational topics in line...</td>\n",
       "      <td>None</td>\n",
       "      <td>None</td>\n",
       "    </tr>\n",
       "    <tr>\n",
       "      <th>2</th>\n",
       "      <td>503</td>\n",
       "      <td>SIADS 503 - Data Science Ethics</td>\n",
       "      <td>The course introduces the ethical challenges t...</td>\n",
       "      <td>[501]</td>\n",
       "      <td>None</td>\n",
       "    </tr>\n",
       "    <tr>\n",
       "      <th>3</th>\n",
       "      <td>505</td>\n",
       "      <td>SIADS 505 - Data Manipulation</td>\n",
       "      <td>This course will introduce data manipulation a...</td>\n",
       "      <td>None</td>\n",
       "      <td>None</td>\n",
       "    </tr>\n",
       "    <tr>\n",
       "      <th>4</th>\n",
       "      <td>511</td>\n",
       "      <td>SIADS 511 - SQL and Databases</td>\n",
       "      <td>This course will introduce the students to beg...</td>\n",
       "      <td>None</td>\n",
       "      <td>None</td>\n",
       "    </tr>\n",
       "  </tbody>\n",
       "</table>\n",
       "</div>"
      ],
      "text/plain": [
       "   course_number                         course_name  \\\n",
       "0            501  SIADS 501 - Being a Data Scientist   \n",
       "1            502          SIADS 502 - Math Methods I   \n",
       "2            503     SIADS 503 - Data Science Ethics   \n",
       "3            505       SIADS 505 - Data Manipulation   \n",
       "4            511       SIADS 511 - SQL and Databases   \n",
       "\n",
       "                                         description precede_prerequisites  \\\n",
       "0  This course explores what expertise, perspecti...                  None   \n",
       "1  This course covers foundational topics in line...                  None   \n",
       "2  The course introduces the ethical challenges t...                 [501]   \n",
       "3  This course will introduce data manipulation a...                  None   \n",
       "4  This course will introduce the students to beg...                  None   \n",
       "\n",
       "  precede_or_accompanied_prerequisites  \n",
       "0                                 None  \n",
       "1                                 None  \n",
       "2                                 None  \n",
       "3                                 None  \n",
       "4                                 None  "
      ]
     },
     "execution_count": 11,
     "metadata": {},
     "output_type": "execute_result"
    }
   ],
   "source": [
    "df_umich_courses.head()"
   ]
  },
  {
   "cell_type": "markdown",
   "metadata": {},
   "source": [
    "### 3. Create a Course Completion DataFrame and Write Out to csv for User Input  (Run Only Once)"
   ]
  },
  {
   "cell_type": "code",
   "execution_count": null,
   "metadata": {},
   "outputs": [],
   "source": [
    "\n",
    "df_umich_courses_completion = df_umich_courses[[\"course_number\", \"course_name\"]].copy()"
   ]
  },
  {
   "cell_type": "code",
   "execution_count": null,
   "metadata": {},
   "outputs": [],
   "source": [
    "\n",
    "df_umich_courses_completion[\"status\"] = \"incomplete\""
   ]
  },
  {
   "cell_type": "code",
   "execution_count": null,
   "metadata": {},
   "outputs": [],
   "source": [
    "\n",
    "df_umich_courses_completion.to_csv(\"course_completion.csv\", index=False)"
   ]
  },
  {
   "cell_type": "markdown",
   "metadata": {},
   "source": [
    "### 4. Read Course Completion CSV and Prepare Adjacency Matrix to Construct/Optimize Graph Nodes and Edges"
   ]
  },
  {
   "cell_type": "markdown",
   "metadata": {},
   "source": [
    "#### 4.1 Course Completion CSV"
   ]
  },
  {
   "cell_type": "code",
   "execution_count": 12,
   "metadata": {},
   "outputs": [],
   "source": [
    "df_umich_courses_completion = pd.read_csv(\"course_completion.csv\")"
   ]
  },
  {
   "cell_type": "markdown",
   "metadata": {},
   "source": [
    "#### 4.2 Adjacency List Seperated by PrerequisiteType (Either Precede, Precede or Accompanied)"
   ]
  },
  {
   "cell_type": "code",
   "execution_count": 13,
   "metadata": {},
   "outputs": [],
   "source": [
    "PrerequisiteType: TypeAlias = Literal[\"precede_prerequisites\", \"precede_or_accompanied_prerequisites\"]\n",
    "CourseNode : TypeAlias = int # represents course number of node\n",
    "CourseStatus: TypeAlias = str\n",
    "CoursePrequisites : TypeAlias = list[int] # represents prerequisites of course node \n",
    "\n",
    "class UmichCourseGraphByType(TypedDict):\n",
    "    CourseNodeInfo : dict[PrerequisiteType, dict[CourseNode, CoursePrequisites]]        "
   ]
  },
  {
   "cell_type": "code",
   "execution_count": 14,
   "metadata": {},
   "outputs": [],
   "source": [
    "graph_umich_courses : UmichCourseGraphByType = (\n",
    "    df_umich_courses[[\"course_number\", \"precede_prerequisites\", \"precede_or_accompanied_prerequisites\"]]\n",
    "        .set_index(\"course_number\")\n",
    "        .to_dict()\n",
    ")"
   ]
  },
  {
   "cell_type": "markdown",
   "metadata": {},
   "source": [
    "#### 4.3 Adjacency List Not Separated by Prerequisite Type (Either Precede, Precede or Accompanied)"
   ]
  },
  {
   "cell_type": "code",
   "execution_count": 15,
   "metadata": {},
   "outputs": [],
   "source": [
    "class UmichCourseGraph(TypedDict):\n",
    "    CourseNodeInfo : dict[CourseNode, CoursePrequisites]"
   ]
  },
  {
   "cell_type": "code",
   "execution_count": 16,
   "metadata": {},
   "outputs": [],
   "source": [
    "df_umich_courses_full_prerequisites : pd.DataFrame = df_umich_courses.copy()"
   ]
  },
  {
   "cell_type": "code",
   "execution_count": 17,
   "metadata": {},
   "outputs": [],
   "source": [
    "def combine_prerequisites(row):\n",
    "    all_prereq_array = []\n",
    "    if isinstance(row[\"precede_prerequisites\"], list):\n",
    "        all_prereq_array.extend(row[\"precede_prerequisites\"])\n",
    "    \n",
    "    if isinstance(row[\"precede_or_accompanied_prerequisites\"], list):\n",
    "        all_prereq_array.extend(row[\"precede_or_accompanied_prerequisites\"])\n",
    "\n",
    "    return all_prereq_array"
   ]
  },
  {
   "cell_type": "code",
   "execution_count": 18,
   "metadata": {},
   "outputs": [],
   "source": [
    "df_umich_courses_full_prerequisites[\"all_prerequisites\"] = df_umich_courses_full_prerequisites.apply(combine_prerequisites, axis=1)"
   ]
  },
  {
   "cell_type": "code",
   "execution_count": 19,
   "metadata": {},
   "outputs": [],
   "source": [
    "df_adjacency_list : UmichCourseGraph = (\n",
    "    df_umich_courses_full_prerequisites[[\"course_number\", \"all_prerequisites\"]]\n",
    "        .set_index(\"course_number\")\n",
    "        .to_dict()['all_prerequisites']\n",
    ")"
   ]
  },
  {
   "cell_type": "markdown",
   "metadata": {},
   "source": [
    "#### 4.3.1 Check Adjacency List Construction"
   ]
  },
  {
   "cell_type": "markdown",
   "metadata": {},
   "source": [
    "I want to quickly check that we are not missing any prerequisites in combine_prerequisites"
   ]
  },
  {
   "cell_type": "markdown",
   "metadata": {},
   "source": [
    "From Eye Level:"
   ]
  },
  {
   "cell_type": "code",
   "execution_count": 20,
   "metadata": {},
   "outputs": [
    {
     "data": {
      "text/plain": [
       "course_number\n",
       "501            []\n",
       "502            []\n",
       "503         [501]\n",
       "505            []\n",
       "511            []\n",
       "515            []\n",
       "516    [511, 505]\n",
       "521         [505]\n",
       "522         [505]\n",
       "523         [522]\n",
       "Name: all_prerequisites, dtype: object"
      ]
     },
     "execution_count": 20,
     "metadata": {},
     "output_type": "execute_result"
    }
   ],
   "source": [
    "df_umich_courses_full_prerequisites.set_index('course_number')['all_prerequisites'].head(10)"
   ]
  },
  {
   "cell_type": "markdown",
   "metadata": {},
   "source": [
    "From Asserts:"
   ]
  },
  {
   "cell_type": "code",
   "execution_count": 21,
   "metadata": {},
   "outputs": [
    {
     "data": {
      "text/html": [
       "<div>\n",
       "<style scoped>\n",
       "    .dataframe tbody tr th:only-of-type {\n",
       "        vertical-align: middle;\n",
       "    }\n",
       "\n",
       "    .dataframe tbody tr th {\n",
       "        vertical-align: top;\n",
       "    }\n",
       "\n",
       "    .dataframe thead th {\n",
       "        text-align: right;\n",
       "    }\n",
       "</style>\n",
       "<table border=\"1\" class=\"dataframe\">\n",
       "  <thead>\n",
       "    <tr style=\"text-align: right;\">\n",
       "      <th></th>\n",
       "      <th>all_prerequisites</th>\n",
       "    </tr>\n",
       "    <tr>\n",
       "      <th>course_number</th>\n",
       "      <th></th>\n",
       "    </tr>\n",
       "  </thead>\n",
       "  <tbody>\n",
       "    <tr>\n",
       "      <th>643</th>\n",
       "      <td>[502, 505, 532, 542, 602, 511]</td>\n",
       "    </tr>\n",
       "    <tr>\n",
       "      <th>644</th>\n",
       "      <td>[502, 505, 532, 542, 602, 642, 632]</td>\n",
       "    </tr>\n",
       "    <tr>\n",
       "      <th>655</th>\n",
       "      <td>[502, 505, 532, 542, 602, 515, 632]</td>\n",
       "    </tr>\n",
       "    <tr>\n",
       "      <th>682</th>\n",
       "      <td>[501, 502, 503, 505, 515, 521, 532, 542, 602, ...</td>\n",
       "    </tr>\n",
       "    <tr>\n",
       "      <th>688</th>\n",
       "      <td>[501, 503, 505, 511, 515, 516, 521, 522, 593, ...</td>\n",
       "    </tr>\n",
       "    <tr>\n",
       "      <th>699</th>\n",
       "      <td>[593, 502, 524, 532, 542, 543, 602, 630, 632, ...</td>\n",
       "    </tr>\n",
       "  </tbody>\n",
       "</table>\n",
       "</div>"
      ],
      "text/plain": [
       "                                               all_prerequisites\n",
       "course_number                                                   \n",
       "643                               [502, 505, 532, 542, 602, 511]\n",
       "644                          [502, 505, 532, 542, 602, 642, 632]\n",
       "655                          [502, 505, 532, 542, 602, 515, 632]\n",
       "682            [501, 502, 503, 505, 515, 521, 532, 542, 602, ...\n",
       "688            [501, 503, 505, 511, 515, 516, 521, 522, 593, ...\n",
       "699            [593, 502, 524, 532, 542, 543, 602, 630, 632, ..."
      ]
     },
     "execution_count": 21,
     "metadata": {},
     "output_type": "execute_result"
    }
   ],
   "source": [
    "both_accompanied_and_preceded = df_umich_courses.loc[\n",
    "    (~df_umich_courses[\"precede_prerequisites\"].isnull()) & \n",
    "    (~df_umich_courses[\"precede_or_accompanied_prerequisites\"].isnull())\n",
    "].set_index(\"course_number\")\n",
    "\n",
    "b = pd.DataFrame(both_accompanied_and_preceded[\"precede_prerequisites\"] + both_accompanied_and_preceded[\"precede_or_accompanied_prerequisites\"], columns=[\"all_prerequisites\"])\n",
    "b"
   ]
  },
  {
   "cell_type": "code",
   "execution_count": 22,
   "metadata": {},
   "outputs": [
    {
     "data": {
      "text/html": [
       "<div>\n",
       "<style scoped>\n",
       "    .dataframe tbody tr th:only-of-type {\n",
       "        vertical-align: middle;\n",
       "    }\n",
       "\n",
       "    .dataframe tbody tr th {\n",
       "        vertical-align: top;\n",
       "    }\n",
       "\n",
       "    .dataframe thead th {\n",
       "        text-align: right;\n",
       "    }\n",
       "</style>\n",
       "<table border=\"1\" class=\"dataframe\">\n",
       "  <thead>\n",
       "    <tr style=\"text-align: right;\">\n",
       "      <th></th>\n",
       "      <th>all_prerequisites</th>\n",
       "    </tr>\n",
       "    <tr>\n",
       "      <th>course_number</th>\n",
       "      <th></th>\n",
       "    </tr>\n",
       "  </thead>\n",
       "  <tbody>\n",
       "    <tr>\n",
       "      <th>501</th>\n",
       "      <td>[]</td>\n",
       "    </tr>\n",
       "    <tr>\n",
       "      <th>502</th>\n",
       "      <td>[]</td>\n",
       "    </tr>\n",
       "    <tr>\n",
       "      <th>503</th>\n",
       "      <td>[501]</td>\n",
       "    </tr>\n",
       "    <tr>\n",
       "      <th>505</th>\n",
       "      <td>[]</td>\n",
       "    </tr>\n",
       "    <tr>\n",
       "      <th>511</th>\n",
       "      <td>[]</td>\n",
       "    </tr>\n",
       "    <tr>\n",
       "      <th>515</th>\n",
       "      <td>[]</td>\n",
       "    </tr>\n",
       "    <tr>\n",
       "      <th>516</th>\n",
       "      <td>[511, 505]</td>\n",
       "    </tr>\n",
       "    <tr>\n",
       "      <th>521</th>\n",
       "      <td>[505]</td>\n",
       "    </tr>\n",
       "    <tr>\n",
       "      <th>522</th>\n",
       "      <td>[505]</td>\n",
       "    </tr>\n",
       "    <tr>\n",
       "      <th>523</th>\n",
       "      <td>[522]</td>\n",
       "    </tr>\n",
       "    <tr>\n",
       "      <th>524</th>\n",
       "      <td>[502, 522]</td>\n",
       "    </tr>\n",
       "    <tr>\n",
       "      <th>532</th>\n",
       "      <td>[502, 505, 602]</td>\n",
       "    </tr>\n",
       "    <tr>\n",
       "      <th>542</th>\n",
       "      <td>[502, 505, 602]</td>\n",
       "    </tr>\n",
       "    <tr>\n",
       "      <th>543</th>\n",
       "      <td>[502, 505, 602, 542]</td>\n",
       "    </tr>\n",
       "    <tr>\n",
       "      <th>571</th>\n",
       "      <td>[]</td>\n",
       "    </tr>\n",
       "    <tr>\n",
       "      <th>593</th>\n",
       "      <td>[501, 503, 505, 511, 515, 516, 521, 522]</td>\n",
       "    </tr>\n",
       "    <tr>\n",
       "      <th>601</th>\n",
       "      <td>[]</td>\n",
       "    </tr>\n",
       "    <tr>\n",
       "      <th>602</th>\n",
       "      <td>[502]</td>\n",
       "    </tr>\n",
       "    <tr>\n",
       "      <th>611</th>\n",
       "      <td>[511]</td>\n",
       "    </tr>\n",
       "    <tr>\n",
       "      <th>622</th>\n",
       "      <td>[505, 521, 522]</td>\n",
       "    </tr>\n",
       "    <tr>\n",
       "      <th>630</th>\n",
       "      <td>[]</td>\n",
       "    </tr>\n",
       "    <tr>\n",
       "      <th>631</th>\n",
       "      <td>[]</td>\n",
       "    </tr>\n",
       "    <tr>\n",
       "      <th>632</th>\n",
       "      <td>[502, 505, 532, 602]</td>\n",
       "    </tr>\n",
       "    <tr>\n",
       "      <th>642</th>\n",
       "      <td>[502, 505, 542, 602]</td>\n",
       "    </tr>\n",
       "    <tr>\n",
       "      <th>643</th>\n",
       "      <td>[502, 505, 532, 542, 602, 511]</td>\n",
       "    </tr>\n",
       "    <tr>\n",
       "      <th>644</th>\n",
       "      <td>[502, 505, 532, 542, 602, 642, 632]</td>\n",
       "    </tr>\n",
       "    <tr>\n",
       "      <th>652</th>\n",
       "      <td>[502, 505, 542, 602]</td>\n",
       "    </tr>\n",
       "    <tr>\n",
       "      <th>655</th>\n",
       "      <td>[502, 505, 532, 542, 602, 515, 632]</td>\n",
       "    </tr>\n",
       "    <tr>\n",
       "      <th>673</th>\n",
       "      <td>[502, 505, 511, 542, 602, 22, 602, 643]</td>\n",
       "    </tr>\n",
       "    <tr>\n",
       "      <th>680</th>\n",
       "      <td>[501, 502, 503, 505, 521, 532, 542, 602, 630, ...</td>\n",
       "    </tr>\n",
       "    <tr>\n",
       "      <th>681</th>\n",
       "      <td>[696]</td>\n",
       "    </tr>\n",
       "    <tr>\n",
       "      <th>682</th>\n",
       "      <td>[501, 502, 503, 505, 515, 521, 532, 542, 602, ...</td>\n",
       "    </tr>\n",
       "    <tr>\n",
       "      <th>685</th>\n",
       "      <td>[501, 502, 503, 505, 515, 532, 542, 602, 630, ...</td>\n",
       "    </tr>\n",
       "    <tr>\n",
       "      <th>687</th>\n",
       "      <td>[696]</td>\n",
       "    </tr>\n",
       "    <tr>\n",
       "      <th>688</th>\n",
       "      <td>[501, 503, 505, 511, 515, 516, 521, 522, 593, ...</td>\n",
       "    </tr>\n",
       "    <tr>\n",
       "      <th>696</th>\n",
       "      <td>[501, 503, 505, 511, 515, 516, 521, 593, 524, ...</td>\n",
       "    </tr>\n",
       "    <tr>\n",
       "      <th>699</th>\n",
       "      <td>[593, 502, 524, 532, 542, 543, 602, 630, 632, ...</td>\n",
       "    </tr>\n",
       "  </tbody>\n",
       "</table>\n",
       "</div>"
      ],
      "text/plain": [
       "                                               all_prerequisites\n",
       "course_number                                                   \n",
       "501                                                           []\n",
       "502                                                           []\n",
       "503                                                        [501]\n",
       "505                                                           []\n",
       "511                                                           []\n",
       "515                                                           []\n",
       "516                                                   [511, 505]\n",
       "521                                                        [505]\n",
       "522                                                        [505]\n",
       "523                                                        [522]\n",
       "524                                                   [502, 522]\n",
       "532                                              [502, 505, 602]\n",
       "542                                              [502, 505, 602]\n",
       "543                                         [502, 505, 602, 542]\n",
       "571                                                           []\n",
       "593                     [501, 503, 505, 511, 515, 516, 521, 522]\n",
       "601                                                           []\n",
       "602                                                        [502]\n",
       "611                                                        [511]\n",
       "622                                              [505, 521, 522]\n",
       "630                                                           []\n",
       "631                                                           []\n",
       "632                                         [502, 505, 532, 602]\n",
       "642                                         [502, 505, 542, 602]\n",
       "643                               [502, 505, 532, 542, 602, 511]\n",
       "644                          [502, 505, 532, 542, 602, 642, 632]\n",
       "652                                         [502, 505, 542, 602]\n",
       "655                          [502, 505, 532, 542, 602, 515, 632]\n",
       "673                      [502, 505, 511, 542, 602, 22, 602, 643]\n",
       "680            [501, 502, 503, 505, 521, 532, 542, 602, 630, ...\n",
       "681                                                        [696]\n",
       "682            [501, 502, 503, 505, 515, 521, 532, 542, 602, ...\n",
       "685            [501, 502, 503, 505, 515, 532, 542, 602, 630, ...\n",
       "687                                                        [696]\n",
       "688            [501, 503, 505, 511, 515, 516, 521, 522, 593, ...\n",
       "696            [501, 503, 505, 511, 515, 516, 521, 593, 524, ...\n",
       "699            [593, 502, 524, 532, 542, 543, 602, 630, 632, ..."
      ]
     },
     "execution_count": 22,
     "metadata": {},
     "output_type": "execute_result"
    }
   ],
   "source": [
    "a = df_umich_courses_full_prerequisites.set_index('course_number')[['all_prerequisites']]\n",
    "a"
   ]
  },
  {
   "cell_type": "code",
   "execution_count": 23,
   "metadata": {},
   "outputs": [],
   "source": [
    "prerequisites_a_b = pd.merge(a, b, left_index=True, right_index=True)"
   ]
  },
  {
   "cell_type": "code",
   "execution_count": 24,
   "metadata": {},
   "outputs": [],
   "source": [
    "assert (prerequisites_a_b[\"all_prerequisites_x\"] == prerequisites_a_b[\"all_prerequisites_y\"]).all(), \"Not all Prerequisites Equal\""
   ]
  },
  {
   "cell_type": "markdown",
   "metadata": {},
   "source": [
    "### 5 Now with All Assets Prepared, We Build Functions which Constructs and Simplifies our Depdency Graph!"
   ]
  },
  {
   "cell_type": "code",
   "execution_count": 25,
   "metadata": {},
   "outputs": [],
   "source": [
    "import random\n",
    "random.seed(10)"
   ]
  },
  {
   "cell_type": "code",
   "execution_count": 29,
   "metadata": {},
   "outputs": [],
   "source": [
    "def initialize_node_positions(nodes : tuple[CourseNode, \n",
    "                                            CourseStatus,\n",
    "                                            CoursePrequisites, \n",
    "                                            CoursePrequisites], \n",
    "                             shape : tuple[int, int]) -> nx.DiGraph:\n",
    "    nt : nx.DiGraph() = nx.DiGraph()\n",
    "    \n",
    "    for i, (course_node, course_status) in enumerate(nodes):\n",
    "        nt.add_node(course_node, \n",
    "                    size=20, \n",
    "                    label=str(course_node), \n",
    "                    shape=\"circle\",\n",
    "                    status=course_status,\n",
    "                    subset=0 if course_status in (\"complete\", \"in progress\") else random.randint(1,5),\n",
    "                    physics=False,\n",
    "        )\n",
    "\n",
    "    pos = nx.multipartite_layout(nt, scale=300)\n",
    "    for node, node_attr in nt.nodes.items():\n",
    "        nt.nodes[node][\"x\"] = pos[node][0] - (500 * 0.5 if node_attr[\"status\"] in (\"complete\", \"in progress\") else 0)\n",
    "        nt.nodes[node][\"y\"] = pos[node][1]\n",
    "\n",
    "    return nt"
   ]
  },
  {
   "cell_type": "code",
   "execution_count": 39,
   "metadata": {},
   "outputs": [],
   "source": [
    "def toNetwork(graph: UmichCourseGraphByType, nt: nx.DiGraph)->  nx.DiGraph:\n",
    "    def checkKeyExists(name):\n",
    "        # if node does not exist, continue operations without that node\n",
    "        return name in nt\n",
    "        # if name not in nt:\n",
    "            # nt.add_node(name, size=40, label=str(name), shape=\"circle\")\n",
    "\n",
    "    for i, (type_prerequisite, course_nodes) in enumerate(graph.items()):\n",
    "            for node in course_nodes:\n",
    "                if (not checkKeyExists(node)) or course_nodes[node] is None:\n",
    "                    continue\n",
    "                for child in course_nodes[node]:\n",
    "                    if (not checkKeyExists(child)):\n",
    "                        continue\n",
    "                    if type_prerequisite == \"precede_prerequisites\":\n",
    "                        nt.add_edge(child,node, prerequisite_type=type_prerequisite, color=\"blue\", physics=False,\n",
    "                                    title=type_prerequisite)\n",
    "                    else:\n",
    "                        nt.add_edge(child,node, prerequisite_type=type_prerequisite, color=\"red\", physics=False,\n",
    "                                    title=type_prerequisite)\n",
    "    return nt\n",
    "\n",
    "def ntw_pyvis(ntx:nx.DiGraph):\n",
    "    net = Network(width=\"100%\",height=\"800px\", directed=True, notebook=True,\n",
    "                  cdn_resources='remote', select_menu=False, filter_menu=False)\n",
    "    net.from_nx(ntx)\n",
    "    return net"
   ]
  },
  {
   "cell_type": "code",
   "execution_count": 40,
   "metadata": {},
   "outputs": [],
   "source": [
    "G = initialize_node_positions(df_umich_courses_completion[[\"course_number\", \"status\"]].to_records(index=False).tolist(), (5,8))\n",
    "network = toNetwork(graph_umich_courses, G)"
   ]
  },
  {
   "cell_type": "code",
   "execution_count": 41,
   "metadata": {},
   "outputs": [],
   "source": [
    "# network.remove_node(22)"
   ]
  },
  {
   "cell_type": "code",
   "execution_count": 42,
   "metadata": {},
   "outputs": [
    {
     "name": "stdout",
     "output_type": "stream",
     "text": [
      "Number of Nodes: 37\n",
      "Number of Edges: 151\n"
     ]
    }
   ],
   "source": [
    "print(\"Number of Nodes:\", len(network.nodes))\n",
    "print(\"Number of Edges:\", len(network.edges))"
   ]
  },
  {
   "cell_type": "code",
   "execution_count": 43,
   "metadata": {},
   "outputs": [],
   "source": [
    "assert len(network.nodes) == len(df_umich_courses)"
   ]
  },
  {
   "cell_type": "code",
   "execution_count": 44,
   "metadata": {},
   "outputs": [],
   "source": [
    "net = ntw_pyvis(network)"
   ]
  },
  {
   "cell_type": "code",
   "execution_count": 45,
   "metadata": {},
   "outputs": [
    {
     "data": {
      "text/plain": [
       "{'color': '#97c2fc',\n",
       " 'size': 20,\n",
       " 'status': 'complete',\n",
       " 'subset': 0,\n",
       " 'physics': False,\n",
       " 'x': -440.5405405405405,\n",
       " 'y': 75.0,\n",
       " 'id': 503,\n",
       " 'label': '503',\n",
       " 'shape': 'circle'}"
      ]
     },
     "execution_count": 45,
     "metadata": {},
     "output_type": "execute_result"
    }
   ],
   "source": [
    "net.get_node(503)"
   ]
  },
  {
   "cell_type": "code",
   "execution_count": 46,
   "metadata": {},
   "outputs": [],
   "source": [
    "net.show_buttons(filter_=\"physics\")"
   ]
  },
  {
   "cell_type": "code",
   "execution_count": 47,
   "metadata": {},
   "outputs": [
    {
     "name": "stdout",
     "output_type": "stream",
     "text": [
      "umich_course_graph.html\n"
     ]
    }
   ],
   "source": [
    "_ = net.show(name=\"umich_course_graph.html\")"
   ]
  }
 ],
 "metadata": {
  "kernelspec": {
   "display_name": "scrapy_scrapers",
   "language": "python",
   "name": "python3"
  },
  "language_info": {
   "codemirror_mode": {
    "name": "ipython",
    "version": 3
   },
   "file_extension": ".py",
   "mimetype": "text/x-python",
   "name": "python",
   "nbconvert_exporter": "python",
   "pygments_lexer": "ipython3",
   "version": "3.10.12"
  }
 },
 "nbformat": 4,
 "nbformat_minor": 2
}
